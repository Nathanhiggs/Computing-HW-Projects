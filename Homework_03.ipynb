{
 "cells": [
  {
   "cell_type": "code",
   "execution_count": 2,
   "metadata": {},
   "outputs": [],
   "source": [
    "#Question 0:\n",
    "marks =  {'Andy':88, 'Amy':66, 'James': 90, 'Jules': 55, 'Arthur': 77}"
   ]
  },
  {
   "cell_type": "code",
   "execution_count": 5,
   "metadata": {},
   "outputs": [
    {
     "name": "stdout",
     "output_type": "stream",
     "text": [
      "Andy 88\n",
      "Amy 66\n",
      "James 90\n",
      "Jules 55\n",
      "Arthur 77\n"
     ]
    }
   ],
   "source": [
    "#Question 1:\n",
    "marks =  {'Andy':88, 'Amy':66, 'James': 90, 'Jules': 55, 'Arthur': 77}\n",
    "for k,v in marks.items():\n",
    "    print(k,v)"
   ]
  },
  {
   "cell_type": "code",
   "execution_count": 127,
   "metadata": {},
   "outputs": [
    {
     "name": "stdout",
     "output_type": "stream",
     "text": [
      "mean is 75.2\n",
      "max is 90\n",
      "min is 55\n"
     ]
    }
   ],
   "source": [
    "#Question 2:\n",
    "from statistics import mean\n",
    "\n",
    "keys = marks.keys()\n",
    "values = marks.values()\n",
    "\n",
    "print(\"mean is\",mean(values))\n",
    "print(\"max is\", max(values))\n",
    "print(\"min is\", min(values))"
   ]
  },
  {
   "cell_type": "code",
   "execution_count": 49,
   "metadata": {},
   "outputs": [
    {
     "name": "stdout",
     "output_type": "stream",
     "text": [
      "Andy\n",
      "Amy\n"
     ]
    }
   ],
   "source": [
    "#Question 3:\n",
    "for k in marks:\n",
    "    if \"J\" in k:\n",
    "        break\n",
    "    else:\n",
    "        print(k)"
   ]
  },
  {
   "cell_type": "code",
   "execution_count": 54,
   "metadata": {},
   "outputs": [
    {
     "name": "stdout",
     "output_type": "stream",
     "text": [
      "Andy\n",
      "Amy\n",
      "Arthur\n"
     ]
    }
   ],
   "source": [
    "#Question 4:\n",
    "for k in marks:\n",
    "        if \"J\" in k:\n",
    "            continue\n",
    "        else:\n",
    "            print(k)"
   ]
  },
  {
   "cell_type": "code",
   "execution_count": 35,
   "metadata": {},
   "outputs": [
    {
     "name": "stdout",
     "output_type": "stream",
     "text": [
      "77\n",
      "Cannot find student name\n"
     ]
    }
   ],
   "source": [
    "#Question 5:\n",
    "def student_grade(student_name):\n",
    "    marks = {'Andy':88, 'Amy':66, 'James': 90, 'Jules': 55, 'Arthur': 77}\n",
    "    for student in marks:\n",
    "        if student == student_name:\n",
    "            print(marks[student])\n",
    "            return marks[student]\n",
    "            break\n",
    "    else:\n",
    "        print('Cannot find student name')\n",
    "        \n",
    "        \n",
    "student_grade(\"Arthur\")\n",
    "student_grade(\"John\")"
   ]
  }
 ],
 "metadata": {
  "kernelspec": {
   "display_name": "Python 3",
   "language": "python",
   "name": "python3"
  },
  "language_info": {
   "codemirror_mode": {
    "name": "ipython",
    "version": 3
   },
   "file_extension": ".py",
   "mimetype": "text/x-python",
   "name": "python",
   "nbconvert_exporter": "python",
   "pygments_lexer": "ipython3",
   "version": "3.8.5"
  }
 },
 "nbformat": 4,
 "nbformat_minor": 4
}
