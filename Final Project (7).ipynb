{
 "cells": [
  {
   "cell_type": "code",
   "execution_count": 2,
   "metadata": {},
   "outputs": [],
   "source": [
    "#random function: to generate rock, paper, or scissors\n",
    "def random_function():\n",
    "    import random\n",
    "    possible_actions = [\"rock\", \"paper\", \"scissors\"]\n",
    "    global computer_action\n",
    "    computer_action = random.choice(possible_actions)\n",
    "    return computer_action"
   ]
  },
  {
   "cell_type": "code",
   "execution_count": 3,
   "metadata": {},
   "outputs": [],
   "source": [
    "#valid function; to check the validity of the move\n",
    "def valid_function():\n",
    "    global user_action \n",
    "    user_action = input(\"Enter a choice (rock, paper, scissors): \")\n",
    "    if user_action == \"rock\":\n",
    "        print(f\"\\nYou chose {user_action}, computer chose {computer_action}.\\n\")\n",
    "    elif user_action == \"scissors\":\n",
    "        print(f\"\\nYou chose {user_action}, computer chose {computer_action}.\\n\")\n",
    "    elif user_action == \"paper\":\n",
    "        print(f\"\\nYou chose {user_action}, computer chose {computer_action}.\\n\")\n",
    "    else:\n",
    "        print(f\"\\nInvalid option. Enter rock, paper, or scissors\\n\")\n",
    "    return user_action"
   ]
  },
  {
   "cell_type": "code",
   "execution_count": 4,
   "metadata": {},
   "outputs": [],
   "source": [
    "#Result function: to declare the winner of the round\n",
    "def result_function():\n",
    "    if user_action == computer_action:\n",
    "        print(f\"Both players selected {user_action}. It's a tie!\")\n",
    "    elif user_action == \"rock\":\n",
    "        if computer_action == \"scissors\":\n",
    "            print(\"Rock smashes scissors! You win!\")\n",
    "        else:\n",
    "            print(\"Paper covers rock! You lose.\")\n",
    "    elif user_action == \"paper\":\n",
    "        if computer_action == \"rock\":\n",
    "            print(\"Paper covers rock! You win!\")\n",
    "        else:\n",
    "            print(\"Scissors cuts paper! You lose.\")\n",
    "    elif user_action == \"scissors\":\n",
    "        if computer_action == \"paper\":\n",
    "            print(\"Scissors cuts paper! You win!\")\n",
    "        else:\n",
    "            print(\"Rock smashes scissors! You lose.\")"
   ]
  },
  {
   "cell_type": "code",
   "execution_count": 5,
   "metadata": {},
   "outputs": [],
   "source": [
    "#scorekeeper: to keep track of the score\n",
    "#seems to work with global, and then setting the scores = 0 outside of the function, so that scores don't reset to zero when function is run again\n",
    "global user_score\n",
    "global computer_score\n",
    "user_score = 0\n",
    "computer_score = 0\n",
    "\n",
    "def score_function():\n",
    "    global user_score\n",
    "    global computer_score\n",
    "    if user_action == computer_action:\n",
    "        print(\"No score change: \" + \"user score = \" + str(user_score) + \" computer score = \" + str(computer_score))\n",
    "    elif user_action == \"rock\":\n",
    "        if computer_action == \"scissors\":\n",
    "            user_score += 1\n",
    "            print(\"You have: \" + str(user_score) + \" point\" + \", Computer has: \" + str(computer_score) + \" point\")\n",
    "        else:\n",
    "            computer_score += 1\n",
    "            print(\"You have: \" + str(user_score) + \" point\" + \", Computer has: \" + str(computer_score) + \" point\")\n",
    "    elif user_action == \"paper\":\n",
    "        if computer_action == \"rock\":\n",
    "            user_score += 1\n",
    "            print(\"You have: \" + str(user_score) + \" point\" + \", Computer has: \" + str(computer_score) + \" point\")\n",
    "        else:\n",
    "            computer_score += 1\n",
    "            print(\"You have: \" + str(user_score) + \" point\" + \", Computer has: \" + str(computer_score) + \" point\")\n",
    "    elif user_action == \"scissors\":\n",
    "        if computer_action == \"paper\":\n",
    "            user_score += 1\n",
    "            print(\"You have: \" + str(user_score) + \" point\" + \", Computer has: \" + str(computer_score) + \" point\")\n",
    "        else:\n",
    "            computer_score +=1\n",
    "            print(\"You have: \" + str(user_score) + \" point\" + \", Computer has: \" + str(computer_score) + \" point\")\n",
    "            "
   ]
  },
  {
   "cell_type": "code",
   "execution_count": 6,
   "metadata": {},
   "outputs": [],
   "source": [
    "#play_function: to prompt if player wants to play another game\n",
    "def play_function():\n",
    "    print(\"Play another game?\")\n",
    "    t=True\n",
    "    while t:\n",
    "        choice = input(\"Enter y or n: \")\n",
    "        if choice == 'y' or choice == 'Y':\n",
    "            random_function()\n",
    "            valid_function()\n",
    "            result_function()\n",
    "            score_function()\n",
    "            play_function()\n",
    "            t=False\n",
    "        else:\n",
    "            t=False"
   ]
  },
  {
   "cell_type": "code",
   "execution_count": 7,
   "metadata": {},
   "outputs": [
    {
     "name": "stdout",
     "output_type": "stream",
     "text": [
      "Please enter your name: nathan\n",
      "Welcome to our game!\n",
      "Enter a choice (rock, paper, scissors): rock\n",
      "\n",
      "You chose rock, computer chose scissors.\n",
      "\n",
      "Rock smashes scissors! You win!\n",
      "You have: 1 point, Computer has: 0 point\n",
      "Play another game?\n",
      "Enter y or n: y\n",
      "Enter a choice (rock, paper, scissors): rock\n",
      "\n",
      "You chose rock, computer chose paper.\n",
      "\n",
      "Paper covers rock! You lose.\n",
      "You have: 1 point, Computer has: 1 point\n",
      "Play another game?\n",
      "Enter y or n: y\n",
      "Enter a choice (rock, paper, scissors): rock\n",
      "\n",
      "You chose rock, computer chose scissors.\n",
      "\n",
      "Rock smashes scissors! You win!\n",
      "You have: 2 point, Computer has: 1 point\n",
      "Play another game?\n",
      "Enter y or n: n\n",
      "None\n"
     ]
    }
   ],
   "source": [
    "#main(): main function of your program should call the above functions\n",
    "#if __name__ ==\"__main__\":\n",
    "   #main()\n",
    "    \n",
    "def main():\n",
    "    playername = str(input(\"Please enter your name: \"))\n",
    "    print(\"Welcome to our game!\")\n",
    "    random_function()\n",
    "    valid_function()\n",
    "    result_function()\n",
    "    score_function()\n",
    "    print(play_function())\n",
    "if __name__ == \"__main__\":\n",
    "    main()"
   ]
  },
  {
   "cell_type": "code",
   "execution_count": 28,
   "metadata": {},
   "outputs": [
    {
     "name": "stdout",
     "output_type": "stream",
     "text": [
      "Enter a choice (rock, paper, scissors): n\n",
      "\n",
      "Invalid option. Enter rock, paper, or scissors\n",
      "\n",
      "Play another game?\n",
      "Enter y or n: y\n",
      "Enter a choice (rock, paper, scissors): rock\n",
      "\n",
      "You chose rock, computer chose paper.\n",
      "\n",
      "Paper covers rock! You lose.\n",
      "You have: 2 point, Computer has: 5 point\n",
      "Play another game?\n",
      "Enter y or n: n\n"
     ]
    }
   ],
   "source": [
    "random_function()\n",
    "valid_function()\n",
    "result_function()\n",
    "score_function()\n",
    "play_function()"
   ]
  }
 ],
 "metadata": {
  "kernelspec": {
   "display_name": "Python 3",
   "language": "python",
   "name": "python3"
  },
  "language_info": {
   "codemirror_mode": {
    "name": "ipython",
    "version": 3
   },
   "file_extension": ".py",
   "mimetype": "text/x-python",
   "name": "python",
   "nbconvert_exporter": "python",
   "pygments_lexer": "ipython3",
   "version": "3.8.5"
  }
 },
 "nbformat": 4,
 "nbformat_minor": 4
}
