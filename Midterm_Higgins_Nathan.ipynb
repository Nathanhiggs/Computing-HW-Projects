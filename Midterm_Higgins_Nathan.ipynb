{
 "cells": [
  {
   "cell_type": "code",
   "execution_count": 150,
   "metadata": {},
   "outputs": [
    {
     "name": "stdout",
     "output_type": "stream",
     "text": [
      "Input: [2, 4, 6, 8, 4, 5, 2, 1, 9, 0, 4, 6, 7, 4, 3, 2, 1, 9, 10, 3, 7, 9, 6, 0, 1, 3, 5, 6, 7, 8, 9, 10, 2, 3, 6, 8, 9, 10, 6, 7, 4, 3]\n",
      "\n",
      "Output:\n",
      "2 :  4\n",
      "4 :  5\n",
      "6 :  6\n",
      "8 :  3\n",
      "5 :  2\n",
      "1 :  3\n",
      "9 :  5\n",
      "0 :  2\n",
      "7 :  4\n",
      "3 :  5\n",
      "10 :  3\n",
      "\n",
      "Explanation: The number on the left is an element found in the num list, the number on the right is the frequency at which that number appears in the list\n"
     ]
    }
   ],
   "source": [
    "#Question 1:\n",
    "num = [2,4,6,8,4,5,2,1,9,0,4,6,7,4,3,2,1,9,10,3,7,9,6,0,1,3,5,6,7,8,9,10,2,3,6,8,9,10,6,7,4,3]\n",
    "print(\"Input:\"\n",
    "     \" [2, 4, 6, 8, 4, 5, 2, 1, 9, 0, 4, 6, 7, 4, 3, 2, 1, 9, 10, 3, 7, 9, 6, 0, 1, 3, 5, 6, 7, 8, 9, 10, 2, 3, 6, 8, 9, 10, 6, 7, 4, 3]\")\n",
    "\n",
    "print(\"\")\n",
    "print(\"Output:\")\n",
    "\n",
    "#start a dictionary titled frequency\n",
    "frequency = {}\n",
    "\n",
    "#for loop counts frequency of each element, if it doesn't find same element, keeps value at 1\n",
    "for element in num:\n",
    "    if element in frequency:\n",
    "        frequency[element] += 1\n",
    "    else:\n",
    "        frequency[element] = 1\n",
    "\n",
    "#prints keys and values from frequency using for loop\n",
    "for key, value in frequency.items():\n",
    "    print(\"% s : % d\" % (key, value))\n",
    "print(\"\")\n",
    "print(\"Explanation:\"\n",
    "     \" The number on the left is an element found in the num list, the number on the right is the frequency at which that number appears in the list\")"
   ]
  },
  {
   "cell_type": "code",
   "execution_count": 151,
   "metadata": {},
   "outputs": [
    {
     "data": {
      "image/png": "[encoded data removed]",
      "text/plain": [
       "<Figure size 432x288 with 1 Axes>"
      ]
     },
     "metadata": {
      "needs_background": "light"
     },
     "output_type": "display_data"
    }
   ],
   "source": [
    "import matplotlib.pyplot as plt\n",
    "\n",
    "#plotting a bar chart with frequency dictionary keys and values as x and y respectively\n",
    "plt.bar(frequency.keys(), frequency.values())\n",
    "\n",
    "plt.title(\"Frequency of Numbers in List\", loc = 'left')\n",
    "plt.xlabel(\"Element in List\")\n",
    "plt.ylabel(\"Frequency of Element\")\n",
    "\n",
    "plt.show()"
   ]
  },
  {
   "cell_type": "code",
   "execution_count": 152,
   "metadata": {},
   "outputs": [],
   "source": [
    "import json\n",
    "\n",
    "#writes new file with frequency dictionary\n",
    "with open('midtermQ1.json', 'w') as fp:\n",
    "    json.dump(frequency, fp,  indent=4)"
   ]
  },
  {
   "cell_type": "code",
   "execution_count": 155,
   "metadata": {},
   "outputs": [
    {
     "data": {
      "text/html": [
       "<div>\n",
       "<style scoped>\n",
       "    .dataframe tbody tr th:only-of-type {\n",
       "        vertical-align: middle;\n",
       "    }\n",
       "\n",
       "    .dataframe tbody tr th {\n",
       "        vertical-align: top;\n",
       "    }\n",
       "\n",
       "    .dataframe thead th {\n",
       "        text-align: right;\n",
       "    }\n",
       "</style>\n",
       "<table border=\"1\" class=\"dataframe\">\n",
       "  <thead>\n",
       "    <tr style=\"text-align: right;\">\n",
       "      <th></th>\n",
       "      <th>Profile Name</th>\n",
       "      <th>Start Time</th>\n",
       "      <th>Duration</th>\n",
       "      <th>Attributes</th>\n",
       "      <th>Title</th>\n",
       "      <th>Supplemental Video Type</th>\n",
       "      <th>Device Type</th>\n",
       "      <th>Bookmark</th>\n",
       "      <th>Latest Bookmark</th>\n",
       "      <th>Country</th>\n",
       "    </tr>\n",
       "  </thead>\n",
       "  <tbody>\n",
       "    <tr>\n",
       "      <th>0</th>\n",
       "      <td>Charlie</td>\n",
       "      <td>3/20/2013 5:17</td>\n",
       "      <td>0:00:05</td>\n",
       "      <td>NaN</td>\n",
       "      <td>Star Trek: Deep Space Nine: Season 5: Empok No...</td>\n",
       "      <td>NaN</td>\n",
       "      <td>Mac</td>\n",
       "      <td>0:00:05</td>\n",
       "      <td>Not latest view</td>\n",
       "      <td>US (United States)</td>\n",
       "    </tr>\n",
       "    <tr>\n",
       "      <th>1</th>\n",
       "      <td>Charlie</td>\n",
       "      <td>3/20/2013 4:27</td>\n",
       "      <td>0:44:31</td>\n",
       "      <td>NaN</td>\n",
       "      <td>Star Trek: Deep Space Nine: Season 5: Blaze of...</td>\n",
       "      <td>NaN</td>\n",
       "      <td>Mac</td>\n",
       "      <td>0:44:31</td>\n",
       "      <td>Not latest view</td>\n",
       "      <td>US (United States)</td>\n",
       "    </tr>\n",
       "    <tr>\n",
       "      <th>2</th>\n",
       "      <td>Charlie</td>\n",
       "      <td>3/20/2013 4:05</td>\n",
       "      <td>0:22:06</td>\n",
       "      <td>NaN</td>\n",
       "      <td>Star Trek: Deep Space Nine: Season 5: Children...</td>\n",
       "      <td>NaN</td>\n",
       "      <td>Mac</td>\n",
       "      <td>0:44:37</td>\n",
       "      <td>0:44:37</td>\n",
       "      <td>US (United States)</td>\n",
       "    </tr>\n",
       "    <tr>\n",
       "      <th>3</th>\n",
       "      <td>Charlie</td>\n",
       "      <td>3/20/2013 0:20</td>\n",
       "      <td>0:48:14</td>\n",
       "      <td>NaN</td>\n",
       "      <td>The Invisible War</td>\n",
       "      <td>NaN</td>\n",
       "      <td>Microsoft Xbox 360</td>\n",
       "      <td>0:53:18</td>\n",
       "      <td>0:53:18</td>\n",
       "      <td>US (United States)</td>\n",
       "    </tr>\n",
       "    <tr>\n",
       "      <th>4</th>\n",
       "      <td>Charlie</td>\n",
       "      <td>3/20/2013 0:10</td>\n",
       "      <td>0:04:51</td>\n",
       "      <td>NaN</td>\n",
       "      <td>The Invisible War</td>\n",
       "      <td>NaN</td>\n",
       "      <td>Mac</td>\n",
       "      <td>0:05:01</td>\n",
       "      <td>Not latest view</td>\n",
       "      <td>US (United States)</td>\n",
       "    </tr>\n",
       "  </tbody>\n",
       "</table>\n",
       "</div>"
      ],
      "text/plain": [
       "  Profile Name      Start Time Duration  Attributes  \\\n",
       "0      Charlie  3/20/2013 5:17  0:00:05         NaN   \n",
       "1      Charlie  3/20/2013 4:27  0:44:31         NaN   \n",
       "2      Charlie  3/20/2013 4:05  0:22:06         NaN   \n",
       "3      Charlie  3/20/2013 0:20  0:48:14         NaN   \n",
       "4      Charlie  3/20/2013 0:10  0:04:51         NaN   \n",
       "\n",
       "                                               Title  Supplemental Video Type  \\\n",
       "0  Star Trek: Deep Space Nine: Season 5: Empok No...                      NaN   \n",
       "1  Star Trek: Deep Space Nine: Season 5: Blaze of...                      NaN   \n",
       "2  Star Trek: Deep Space Nine: Season 5: Children...                      NaN   \n",
       "3                                  The Invisible War                      NaN   \n",
       "4                                  The Invisible War                      NaN   \n",
       "\n",
       "          Device Type Bookmark  Latest Bookmark             Country  \n",
       "0                 Mac  0:00:05  Not latest view  US (United States)  \n",
       "1                 Mac  0:44:31  Not latest view  US (United States)  \n",
       "2                 Mac  0:44:37          0:44:37  US (United States)  \n",
       "3  Microsoft Xbox 360  0:53:18          0:53:18  US (United States)  \n",
       "4                 Mac  0:05:01  Not latest view  US (United States)  "
      ]
     },
     "execution_count": 155,
     "metadata": {},
     "output_type": "execute_result"
    }
   ],
   "source": [
    "#Question 2:\n",
    "import pandas as pd\n",
    "\n",
    "#important to note, data sample is a 20 day range of netflix activity\n",
    "df = pd.read_csv(r\"C:\\Users\\natha\\OneDrive\\Documents\\Jupyter code\\midterm project\\Netflix Data Sample.csv\")\n",
    "df.head()"
   ]
  },
  {
   "cell_type": "code",
   "execution_count": 156,
   "metadata": {},
   "outputs": [
    {
     "data": {
      "text/html": [
       "<div>\n",
       "<style scoped>\n",
       "    .dataframe tbody tr th:only-of-type {\n",
       "        vertical-align: middle;\n",
       "    }\n",
       "\n",
       "    .dataframe tbody tr th {\n",
       "        vertical-align: top;\n",
       "    }\n",
       "\n",
       "    .dataframe thead th {\n",
       "        text-align: right;\n",
       "    }\n",
       "</style>\n",
       "<table border=\"1\" class=\"dataframe\">\n",
       "  <thead>\n",
       "    <tr style=\"text-align: right;\">\n",
       "      <th></th>\n",
       "      <th>Start Time</th>\n",
       "      <th>Duration</th>\n",
       "      <th>Device Type</th>\n",
       "    </tr>\n",
       "  </thead>\n",
       "  <tbody>\n",
       "    <tr>\n",
       "      <th>0</th>\n",
       "      <td>3/20/2013 5:17</td>\n",
       "      <td>0:00:05</td>\n",
       "      <td>Mac</td>\n",
       "    </tr>\n",
       "  </tbody>\n",
       "</table>\n",
       "</div>"
      ],
      "text/plain": [
       "       Start Time Duration Device Type\n",
       "0  3/20/2013 5:17  0:00:05         Mac"
      ]
     },
     "execution_count": 156,
     "metadata": {},
     "output_type": "execute_result"
    }
   ],
   "source": [
    "#drops other columns to only analyze time of play, duration, and device type\n",
    "df = df.drop(['Profile Name', 'Attributes', 'Title', 'Supplemental Video Type', 'Bookmark', 'Latest Bookmark','Country'], axis=1)\n",
    "df.head(1)"
   ]
  },
  {
   "cell_type": "code",
   "execution_count": 157,
   "metadata": {},
   "outputs": [
    {
     "data": {
      "text/plain": [
       "Start Time     object\n",
       "Duration       object\n",
       "Device Type    object\n",
       "dtype: object"
      ]
     },
     "execution_count": 157,
     "metadata": {},
     "output_type": "execute_result"
    }
   ],
   "source": [
    "df.dtypes\n",
    "#looking at data types, start time and duration need to be converted "
   ]
  },
  {
   "cell_type": "code",
   "execution_count": 158,
   "metadata": {},
   "outputs": [
    {
     "data": {
      "text/plain": [
       "Start Time     datetime64[ns, US/Eastern]\n",
       "Duration                  timedelta64[ns]\n",
       "Device Type                        object\n",
       "dtype: object"
      ]
     },
     "execution_count": 158,
     "metadata": {},
     "output_type": "execute_result"
    }
   ],
   "source": [
    "#start time must be converted to datetime\n",
    "df['Start Time'] = pd.to_datetime(df['Start Time'], utc=True)\n",
    "\n",
    "#start time must convert timezone from UTC to EST\n",
    "df = df.set_index('Start Time')\n",
    "df.index = df.index.tz_convert('US/Eastern')\n",
    "df = df.reset_index()\n",
    "\n",
    "#duration must be converted to timedelta\n",
    "df['Duration'] = pd.to_timedelta(df['Duration'])\n",
    "\n",
    "\n",
    "#check the data types to confirm conversions were correct\n",
    "df.dtypes"
   ]
  },
  {
   "cell_type": "code",
   "execution_count": 159,
   "metadata": {},
   "outputs": [
    {
     "data": {
      "text/html": [
       "<div>\n",
       "<style scoped>\n",
       "    .dataframe tbody tr th:only-of-type {\n",
       "        vertical-align: middle;\n",
       "    }\n",
       "\n",
       "    .dataframe tbody tr th {\n",
       "        vertical-align: top;\n",
       "    }\n",
       "\n",
       "    .dataframe thead th {\n",
       "        text-align: right;\n",
       "    }\n",
       "</style>\n",
       "<table border=\"1\" class=\"dataframe\">\n",
       "  <thead>\n",
       "    <tr style=\"text-align: right;\">\n",
       "      <th></th>\n",
       "      <th>Start Time</th>\n",
       "      <th>Duration</th>\n",
       "      <th>Device Type</th>\n",
       "    </tr>\n",
       "  </thead>\n",
       "  <tbody>\n",
       "    <tr>\n",
       "      <th>31</th>\n",
       "      <td>2013-03-16 15:11:00-04:00</td>\n",
       "      <td>0 days 00:19:08</td>\n",
       "      <td>Mac</td>\n",
       "    </tr>\n",
       "    <tr>\n",
       "      <th>87</th>\n",
       "      <td>2013-03-12 11:55:00-04:00</td>\n",
       "      <td>0 days 00:21:40</td>\n",
       "      <td>Mac</td>\n",
       "    </tr>\n",
       "    <tr>\n",
       "      <th>62</th>\n",
       "      <td>2013-03-14 01:12:00-04:00</td>\n",
       "      <td>0 days 00:20:42</td>\n",
       "      <td>Mac</td>\n",
       "    </tr>\n",
       "    <tr>\n",
       "      <th>111</th>\n",
       "      <td>2013-03-11 12:19:00-04:00</td>\n",
       "      <td>0 days 00:15:37</td>\n",
       "      <td>Mac</td>\n",
       "    </tr>\n",
       "    <tr>\n",
       "      <th>80</th>\n",
       "      <td>2013-03-12 22:31:00-04:00</td>\n",
       "      <td>0 days 00:05:37</td>\n",
       "      <td>Mac</td>\n",
       "    </tr>\n",
       "    <tr>\n",
       "      <th>9</th>\n",
       "      <td>2013-03-18 19:25:00-04:00</td>\n",
       "      <td>0 days 00:00:02</td>\n",
       "      <td>Mac</td>\n",
       "    </tr>\n",
       "    <tr>\n",
       "      <th>82</th>\n",
       "      <td>2013-03-12 19:55:00-04:00</td>\n",
       "      <td>0 days 00:09:37</td>\n",
       "      <td>Mac</td>\n",
       "    </tr>\n",
       "    <tr>\n",
       "      <th>5</th>\n",
       "      <td>2013-03-19 18:34:00-04:00</td>\n",
       "      <td>0 days 00:22:29</td>\n",
       "      <td>Mac</td>\n",
       "    </tr>\n",
       "    <tr>\n",
       "      <th>88</th>\n",
       "      <td>2013-03-12 10:52:00-04:00</td>\n",
       "      <td>0 days 00:27:52</td>\n",
       "      <td>Mac</td>\n",
       "    </tr>\n",
       "    <tr>\n",
       "      <th>126</th>\n",
       "      <td>2013-03-10 16:42:00-04:00</td>\n",
       "      <td>0 days 00:18:47</td>\n",
       "      <td>Mac</td>\n",
       "    </tr>\n",
       "  </tbody>\n",
       "</table>\n",
       "</div>"
      ],
      "text/plain": [
       "                   Start Time        Duration Device Type\n",
       "31  2013-03-16 15:11:00-04:00 0 days 00:19:08         Mac\n",
       "87  2013-03-12 11:55:00-04:00 0 days 00:21:40         Mac\n",
       "62  2013-03-14 01:12:00-04:00 0 days 00:20:42         Mac\n",
       "111 2013-03-11 12:19:00-04:00 0 days 00:15:37         Mac\n",
       "80  2013-03-12 22:31:00-04:00 0 days 00:05:37         Mac\n",
       "9   2013-03-18 19:25:00-04:00 0 days 00:00:02         Mac\n",
       "82  2013-03-12 19:55:00-04:00 0 days 00:09:37         Mac\n",
       "5   2013-03-19 18:34:00-04:00 0 days 00:22:29         Mac\n",
       "88  2013-03-12 10:52:00-04:00 0 days 00:27:52         Mac\n",
       "126 2013-03-10 16:42:00-04:00 0 days 00:18:47         Mac"
      ]
     },
     "execution_count": 159,
     "metadata": {},
     "output_type": "execute_result"
    }
   ],
   "source": [
    "#filtering out by only certain device type, Mac\n",
    "Mac = df[df['Device Type'].str.contains('Mac', regex=False)]\n",
    "\n",
    "#checking that it worked\n",
    "Mac.sample(10)"
   ]
  },
  {
   "cell_type": "code",
   "execution_count": 161,
   "metadata": {},
   "outputs": [
    {
     "data": {
      "text/plain": [
       "(164, 3)"
      ]
     },
     "execution_count": 161,
     "metadata": {},
     "output_type": "execute_result"
    }
   ],
   "source": [
    "#Filter out the outliers, duration should be longer than 1 minute, so that when the next episode accidentally loads it doesn't count\n",
    "Mac = Mac[(Mac['Duration'] > '0 days 00:01:00')]\n",
    "Mac.shape"
   ]
  },
  {
   "cell_type": "code",
   "execution_count": 162,
   "metadata": {},
   "outputs": [
    {
     "name": "stdout",
     "output_type": "stream",
     "text": [
      "Total Time spent:  2 days 11:34:17\n",
      "\n",
      "Median Time Spent:  0 days 00:21:07.500000\n"
     ]
    }
   ],
   "source": [
    "#Some analysis figures:\n",
    "\n",
    "#Total duration of Netflix watched on Mac:\n",
    "print(\"Total Time spent:\", \"\", Mac['Duration'].sum())\n",
    "\n",
    "print()\n",
    "#Median duration of time spent on each show:\n",
    "print(\"Median Time Spent:\", \"\", Mac['Duration'].median())\n",
    "\n"
   ]
  },
  {
   "cell_type": "code",
   "execution_count": 164,
   "metadata": {},
   "outputs": [
    {
     "data": {
      "text/html": [
       "<div>\n",
       "<style scoped>\n",
       "    .dataframe tbody tr th:only-of-type {\n",
       "        vertical-align: middle;\n",
       "    }\n",
       "\n",
       "    .dataframe tbody tr th {\n",
       "        vertical-align: top;\n",
       "    }\n",
       "\n",
       "    .dataframe thead th {\n",
       "        text-align: right;\n",
       "    }\n",
       "</style>\n",
       "<table border=\"1\" class=\"dataframe\">\n",
       "  <thead>\n",
       "    <tr style=\"text-align: right;\">\n",
       "      <th></th>\n",
       "      <th>Start Time</th>\n",
       "      <th>Duration</th>\n",
       "      <th>Device Type</th>\n",
       "      <th>weekday</th>\n",
       "    </tr>\n",
       "  </thead>\n",
       "  <tbody>\n",
       "    <tr>\n",
       "      <th>1</th>\n",
       "      <td>2013-03-20 00:27:00-04:00</td>\n",
       "      <td>0 days 00:44:31</td>\n",
       "      <td>Mac</td>\n",
       "      <td>2</td>\n",
       "    </tr>\n",
       "    <tr>\n",
       "      <th>2</th>\n",
       "      <td>2013-03-20 00:05:00-04:00</td>\n",
       "      <td>0 days 00:22:06</td>\n",
       "      <td>Mac</td>\n",
       "      <td>2</td>\n",
       "    </tr>\n",
       "    <tr>\n",
       "      <th>4</th>\n",
       "      <td>2013-03-19 20:10:00-04:00</td>\n",
       "      <td>0 days 00:04:51</td>\n",
       "      <td>Mac</td>\n",
       "      <td>1</td>\n",
       "    </tr>\n",
       "    <tr>\n",
       "      <th>5</th>\n",
       "      <td>2013-03-19 18:34:00-04:00</td>\n",
       "      <td>0 days 00:22:29</td>\n",
       "      <td>Mac</td>\n",
       "      <td>1</td>\n",
       "    </tr>\n",
       "    <tr>\n",
       "      <th>6</th>\n",
       "      <td>2013-03-19 01:07:00-04:00</td>\n",
       "      <td>0 days 00:33:10</td>\n",
       "      <td>Mac</td>\n",
       "      <td>1</td>\n",
       "    </tr>\n",
       "  </tbody>\n",
       "</table>\n",
       "</div>"
      ],
      "text/plain": [
       "                 Start Time        Duration Device Type  weekday\n",
       "1 2013-03-20 00:27:00-04:00 0 days 00:44:31         Mac        2\n",
       "2 2013-03-20 00:05:00-04:00 0 days 00:22:06         Mac        2\n",
       "4 2013-03-19 20:10:00-04:00 0 days 00:04:51         Mac        1\n",
       "5 2013-03-19 18:34:00-04:00 0 days 00:22:29         Mac        1\n",
       "6 2013-03-19 01:07:00-04:00 0 days 00:33:10         Mac        1"
      ]
     },
     "execution_count": 164,
     "metadata": {},
     "output_type": "execute_result"
    }
   ],
   "source": [
    "#Analyzing weekday prevalence\n",
    "\n",
    "Mac['weekday'] = Mac['Start Time'].dt.weekday\n",
    "\n",
    "Mac.head()"
   ]
  },
  {
   "cell_type": "code",
   "execution_count": 167,
   "metadata": {},
   "outputs": [],
   "source": [
    "%matplotlib inline\n",
    "import matplotlib\n",
    "\n",
    "#setting data so that days are plotted monday through sunday\n",
    "Mac['weekday'] = pd.Categorical(Mac['weekday'], categories = [0,1,2,3,4,5,6], ordered=True)\n",
    "\n",
    "#counting rows for each weekday, assigning results to Mac_day\n",
    "Mac_day = Mac['weekday'].value_counts()\n",
    "\n",
    "#setting order with monday (0) first, tuesday (1) second, etc.\n",
    "Mac_day = Mac_day.sort_index()\n"
   ]
  },
  {
   "cell_type": "code",
   "execution_count": 170,
   "metadata": {},
   "outputs": [
    {
     "data": {
      "image/png": "[encoded data removed]",
      "text/plain": [
       "<Figure size 1440x720 with 1 Axes>"
      ]
     },
     "metadata": {
      "needs_background": "light"
     },
     "output_type": "display_data"
    }
   ],
   "source": [
    "#plotting Mac_day as a bar chart\n",
    "\n",
    "matplotlib.rcParams.update({'font.size': 20})\n",
    "Mac_day.plot(kind = 'bar', figsize = (20,10), title = 'Netflix Episodes Watched on Mac by Day')\n",
    "plt.xlabel(\"Day of the Week\")\n",
    "plt.ylabel(\"Episodes Watched\")\n",
    "plt.show()"
   ]
  }
 ],
 "metadata": {
  "kernelspec": {
   "display_name": "Python 3",
   "language": "python",
   "name": "python3"
  },
  "language_info": {
   "codemirror_mode": {
    "name": "ipython",
    "version": 3
   },
   "file_extension": ".py",
   "mimetype": "text/x-python",
   "name": "python",
   "nbconvert_exporter": "python",
   "pygments_lexer": "ipython3",
   "version": "3.8.5"
  }
 },
 "nbformat": 4,
 "nbformat_minor": 4
}
