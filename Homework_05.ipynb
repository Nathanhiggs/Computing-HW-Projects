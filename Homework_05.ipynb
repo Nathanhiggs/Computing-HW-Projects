{
 "cells": [
  {
   "cell_type": "code",
   "execution_count": 1,
   "metadata": {},
   "outputs": [
    {
     "name": "stdout",
     "output_type": "stream",
     "text": [
      "5:30\n"
     ]
    }
   ],
   "source": [
    "#Question 1:\n",
    "class Clock():\n",
    "    def __init__(self, time):\n",
    "        self.time = time\n",
    "    def print_time(self):\n",
    "        time = '6:30'\n",
    "        print(self.time)\n",
    "        \n",
    "clock = Clock('5:30')\n",
    "clock.print_time()"
   ]
  },
  {
   "cell_type": "code",
   "execution_count": 3,
   "metadata": {},
   "outputs": [
    {
     "name": "stdout",
     "output_type": "stream",
     "text": [
      "10:30\n"
     ]
    }
   ],
   "source": [
    "#Question 2:\n",
    "class Clock():\n",
    "    def __init__(self, time):\n",
    "        self.time = time\n",
    "    def print_time(self, time):\n",
    "        print(time)\n",
    "clock = Clock('5:30')\n",
    "clock.print_time('10:30')"
   ]
  },
  {
   "cell_type": "code",
   "execution_count": 4,
   "metadata": {},
   "outputs": [
    {
     "name": "stdout",
     "output_type": "stream",
     "text": [
      "5:30\n",
      "10:30\n"
     ]
    }
   ],
   "source": [
    "#Question 3:\n",
    "class Clock():\n",
    "    def __init__(self, time):\n",
    "        self.time = time\n",
    "    def print_time(self):\n",
    "        print(self.time)\n",
    "        \n",
    "class Clock1(Clock):\n",
    "    pass\n",
    "\n",
    "boston_clock = Clock('5:30')\n",
    "paris_clock = Clock1('10:30')\n",
    "\n",
    "boston_clock.print_time()\n",
    "paris_clock.print_time()"
   ]
  },
  {
   "cell_type": "code",
   "execution_count": 365,
   "metadata": {},
   "outputs": [],
   "source": [
    "#Question 4:\n",
    "class Queue:\n",
    "    def __init__(self):             #initializes an empty list called self.items\n",
    "        self.items = []\n",
    "\n",
    "    def insert(self, item):        #function for inserting values into list\n",
    "        self.items.insert(0,item)\n",
    "\n",
    "    def remove(self):              #function for removing values from list. Checks if list already empty, prints message saying so, if not, removes first entered value (FIFO)\n",
    "        if self.items == []:\n",
    "            print(\"Queue is empty\")\n",
    "        else:\n",
    "            return self.items.pop()\n",
    "\n",
    "    def print(self):               #function to print the list\n",
    "        print(self.items)"
   ]
  },
  {
   "cell_type": "code",
   "execution_count": 366,
   "metadata": {},
   "outputs": [
    {
     "name": "stdout",
     "output_type": "stream",
     "text": [
      "[10, 'seven', 5]\n"
     ]
    }
   ],
   "source": [
    "queue = Queue()         #warning: setting queue = Queue() will reset any currently existing queue\n",
    "\n",
    "queue.insert(5)\n",
    "queue.insert(\"seven\")   #just wanted to show it can take strings as well\n",
    "queue.insert(10)\n",
    "queue.print()"
   ]
  },
  {
   "cell_type": "code",
   "execution_count": 367,
   "metadata": {},
   "outputs": [
    {
     "name": "stdout",
     "output_type": "stream",
     "text": [
      "[5, 10, 'seven', 5]\n"
     ]
    }
   ],
   "source": [
    "queue.insert(5)\n",
    "queue.print()"
   ]
  },
  {
   "cell_type": "code",
   "execution_count": 368,
   "metadata": {},
   "outputs": [
    {
     "name": "stdout",
     "output_type": "stream",
     "text": [
      "[7, 5, 10, 'seven']\n"
     ]
    }
   ],
   "source": [
    "queue.insert(7)\n",
    "queue.remove()\n",
    "queue.print()"
   ]
  },
  {
   "cell_type": "code",
   "execution_count": 374,
   "metadata": {},
   "outputs": [
    {
     "name": "stdout",
     "output_type": "stream",
     "text": [
      "Queue is empty\n"
     ]
    }
   ],
   "source": [
    "queue.remove()   #can run this as many times as possible until you get the \"Queue is empty\" message\n",
    "\n",
    "#when running queue.remove(), output will be the value in list that was removed\n",
    "#if you want to see what's left of the queue, run queue.print()"
   ]
  }
 ],
 "metadata": {
  "kernelspec": {
   "display_name": "Python 3",
   "language": "python",
   "name": "python3"
  },
  "language_info": {
   "codemirror_mode": {
    "name": "ipython",
    "version": 3
   },
   "file_extension": ".py",
   "mimetype": "text/x-python",
   "name": "python",
   "nbconvert_exporter": "python",
   "pygments_lexer": "ipython3",
   "version": "3.8.5"
  }
 },
 "nbformat": 4,
 "nbformat_minor": 4
}
